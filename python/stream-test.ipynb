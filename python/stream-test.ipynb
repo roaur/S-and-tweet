{
 "cells": [
  {
   "cell_type": "code",
   "execution_count": 10,
   "source": [
    "from pykafka import KafkaClient\n",
    "import json"
   ],
   "outputs": [],
   "metadata": {}
  },
  {
   "cell_type": "code",
   "execution_count": 15,
   "source": [
    "client = KafkaClient()"
   ],
   "outputs": [],
   "metadata": {}
  },
  {
   "cell_type": "code",
   "execution_count": 16,
   "source": [
    "client.topics"
   ],
   "outputs": [
    {
     "output_type": "execute_result",
     "data": {
      "text/plain": [
       "{b'tweets': <pykafka.topic.Topic at 0x7fecb045e580 (name=b'tweets')>}"
      ]
     },
     "metadata": {},
     "execution_count": 16
    }
   ],
   "metadata": {}
  },
  {
   "cell_type": "code",
   "execution_count": null,
   "source": [],
   "outputs": [],
   "metadata": {}
  }
 ],
 "metadata": {
  "orig_nbformat": 4,
  "language_info": {
   "name": "python",
   "version": "3.8.10",
   "mimetype": "text/x-python",
   "codemirror_mode": {
    "name": "ipython",
    "version": 3
   },
   "pygments_lexer": "ipython3",
   "nbconvert_exporter": "python",
   "file_extension": ".py"
  },
  "kernelspec": {
   "name": "python3",
   "display_name": "Python 3.8.10 64-bit ('datascience': conda)"
  },
  "interpreter": {
   "hash": "218f303d92b9f49d05032ebc64f795a11431db1abe6fec9c4ffd75089ebb498f"
  }
 },
 "nbformat": 4,
 "nbformat_minor": 2
}